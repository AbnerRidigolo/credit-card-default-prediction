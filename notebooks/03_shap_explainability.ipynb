{
 "cells": [
  {
   "cell_type": "markdown",
   "id": "fb556fa7",
   "metadata": {},
   "source": [
    "# 🔍 Explicabilidade com SHAP"
   ]
  },
  {
   "cell_type": "code",
   "execution_count": null,
   "id": "97688a5f",
   "metadata": {},
   "outputs": [],
   "source": [
    "import shap\n",
    "\n",
    "# Inicializar o explicador\n",
    "explainer = shap.TreeExplainer(rf)\n",
    "shap_values = explainer.shap_values(X_test)\n",
    "\n",
    "# Visualização\n",
    "shap.summary_plot(shap_values[1], X_test)\n"
   ]
  }
 ],
 "metadata": {},
 "nbformat": 4,
 "nbformat_minor": 5
}
